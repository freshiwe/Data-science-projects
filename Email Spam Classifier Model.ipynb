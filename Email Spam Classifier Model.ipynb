{
 "cells": [
  {
   "cell_type": "code",
   "execution_count": 1,
   "id": "3ef4faaa",
   "metadata": {},
   "outputs": [],
   "source": [
    "import numpy as np\n",
    "import pandas as pd\n",
    "import matplotlib.pyplot as plt\n",
    "import seaborn as sns\n",
    "from sklearn.linear_model import LogisticRegression\n",
    "from sklearn.metrics import accuracy_score"
   ]
  },
  {
   "cell_type": "code",
   "execution_count": 2,
   "id": "c599de42",
   "metadata": {},
   "outputs": [
    {
     "name": "stdout",
     "output_type": "stream",
     "text": [
      "     v1                                                 v2 Unnamed: 2  \\\n",
      "0   ham  Go until jurong point, crazy.. Available only ...        NaN   \n",
      "1   ham                      Ok lar... Joking wif u oni...        NaN   \n",
      "2  spam  Free entry in 2 a wkly comp to win FA Cup fina...        NaN   \n",
      "3   ham  U dun say so early hor... U c already then say...        NaN   \n",
      "4   ham  Nah I don't think he goes to usf, he lives aro...        NaN   \n",
      "\n",
      "  Unnamed: 3 Unnamed: 4  \n",
      "0        NaN        NaN  \n",
      "1        NaN        NaN  \n",
      "2        NaN        NaN  \n",
      "3        NaN        NaN  \n",
      "4        NaN        NaN  \n"
     ]
    }
   ],
   "source": [
    "mail_df = pd.read_csv(r\"D:\\email spam\\spam.csv\", encoding='latin-1')\n",
    "print(mail_df.head())"
   ]
  },
  {
   "cell_type": "code",
   "execution_count": 3,
   "id": "122582ec",
   "metadata": {},
   "outputs": [
    {
     "name": "stdout",
     "output_type": "stream",
     "text": [
      "     v1                                                 v2\n",
      "0   ham  Go until jurong point, crazy.. Available only ...\n",
      "1   ham                      Ok lar... Joking wif u oni...\n",
      "2  spam  Free entry in 2 a wkly comp to win FA Cup fina...\n",
      "3   ham  U dun say so early hor... U c already then say...\n",
      "4   ham  Nah I don't think he goes to usf, he lives aro...\n",
      "5  spam  FreeMsg Hey there darling it's been 3 week's n...\n",
      "6   ham  Even my brother is not like to speak with me. ...\n",
      "7   ham  As per your request 'Melle Melle (Oru Minnamin...\n",
      "8  spam  WINNER!! As a valued network customer you have...\n",
      "9  spam  Had your mobile 11 months or more? U R entitle...\n"
     ]
    }
   ],
   "source": [
    "data=mail_df.where((pd.notnull(mail_df)),'')\n",
    "data_drop=data.drop(['Unnamed: 2','Unnamed: 3','Unnamed: 4'],axis=1)\n",
    "print(data_drop.head(10))\n"
   ]
  },
  {
   "cell_type": "code",
   "execution_count": 4,
   "id": "5e9d19e8",
   "metadata": {},
   "outputs": [
    {
     "name": "stdout",
     "output_type": "stream",
     "text": [
      "<class 'pandas.core.frame.DataFrame'>\n",
      "RangeIndex: 5572 entries, 0 to 5571\n",
      "Data columns (total 2 columns):\n",
      " #   Column  Non-Null Count  Dtype \n",
      "---  ------  --------------  ----- \n",
      " 0   v1      5572 non-null   object\n",
      " 1   v2      5572 non-null   object\n",
      "dtypes: object(2)\n",
      "memory usage: 87.2+ KB\n"
     ]
    }
   ],
   "source": [
    "data_drop.info()"
   ]
  },
  {
   "cell_type": "code",
   "execution_count": 5,
   "id": "a5e4ab63",
   "metadata": {},
   "outputs": [
    {
     "name": "stdout",
     "output_type": "stream",
     "text": [
      "  category                                            message\n",
      "0      ham  Go until jurong point, crazy.. Available only ...\n",
      "1      ham                      Ok lar... Joking wif u oni...\n",
      "2     spam  Free entry in 2 a wkly comp to win FA Cup fina...\n",
      "3      ham  U dun say so early hor... U c already then say...\n",
      "4      ham  Nah I don't think he goes to usf, he lives aro...\n"
     ]
    }
   ],
   "source": [
    "mail=data_drop.rename(columns={'v1':'category','v2':'message'})\n",
    "print(mail.head())"
   ]
  },
  {
   "cell_type": "code",
   "execution_count": 9,
   "id": "6b957519",
   "metadata": {},
   "outputs": [],
   "source": [
    "mail.loc[mail['category']=='spam','category']=0\n",
    "mail.loc[mail['category']=='ham','category']=1"
   ]
  },
  {
   "cell_type": "code",
   "execution_count": 10,
   "id": "c251ada4",
   "metadata": {},
   "outputs": [
    {
     "name": "stdout",
     "output_type": "stream",
     "text": [
      "0       1\n",
      "1       1\n",
      "2       0\n",
      "3       1\n",
      "4       1\n",
      "       ..\n",
      "5567    0\n",
      "5568    1\n",
      "5569    1\n",
      "5570    1\n",
      "5571    1\n",
      "Name: category, Length: 5572, dtype: object\n"
     ]
    }
   ],
   "source": [
    "X=mail['message']\n",
    "y=mail['category']\n",
    "print(y)"
   ]
  },
  {
   "cell_type": "code",
   "execution_count": 21,
   "id": "91002155",
   "metadata": {},
   "outputs": [
    {
     "name": "stdout",
     "output_type": "stream",
     "text": [
      "X_train shape: (4457,)\n",
      "y_train shape: (4457,)\n",
      "X_test shape: (1115,)\n",
      "y_test shape: (1115,)\n"
     ]
    }
   ],
   "source": [
    "from sklearn.model_selection import train_test_split\n",
    "X_train, X_test, y_train, y_test = train_test_split(X, y, test_size=0.2, random_state=3)\n",
    "print(\"X_train shape:\", X_train.shape)\n",
    "print(\"y_train shape:\", y_train.shape)\n",
    "print(\"X_test shape:\", X_test.shape)\n",
    "print(\"y_test shape:\", y_test.shape)"
   ]
  },
  {
   "cell_type": "code",
   "execution_count": 52,
   "id": "d58c0d57",
   "metadata": {
    "scrolled": true
   },
   "outputs": [],
   "source": [
    "from sklearn.feature_extraction.text import CountVectorizer\n",
    "cv=CountVectorizer()\n",
    "from sklearn import svm"
   ]
  },
  {
   "cell_type": "code",
   "execution_count": 54,
   "id": "4b17bb19",
   "metadata": {},
   "outputs": [],
   "source": [
    "x_train_cv = cv.fit_transform(X_train)\n",
    "x_test_cv = cv.transform(X_test)"
   ]
  },
  {
   "cell_type": "code",
   "execution_count": 55,
   "id": "59eda1a0",
   "metadata": {},
   "outputs": [
    {
     "name": "stdout",
     "output_type": "stream",
     "text": [
      "  (0, 4655)\t1\n",
      "  (0, 3491)\t1\n",
      "  (0, 7720)\t2\n",
      "  (0, 1032)\t1\n",
      "  (0, 3365)\t1\n",
      "  (0, 3235)\t2\n",
      "  (0, 2178)\t2\n",
      "  (0, 3497)\t1\n",
      "  (0, 6873)\t1\n",
      "  (0, 6805)\t1\n",
      "  (0, 4431)\t1\n",
      "  (0, 7464)\t1\n",
      "  (0, 946)\t1\n",
      "  (0, 3042)\t1\n",
      "  (0, 4908)\t1\n",
      "  (0, 4108)\t1\n",
      "  (0, 3360)\t1\n",
      "  (0, 741)\t1\n",
      "  (1, 7704)\t1\n",
      "  (1, 6645)\t1\n",
      "  (1, 3646)\t1\n",
      "  (1, 6620)\t1\n",
      "  (1, 7099)\t1\n",
      "  (1, 4190)\t1\n",
      "  (2, 7720)\t1\n",
      "  :\t:\n",
      "  (4455, 847)\t1\n",
      "  (4455, 6956)\t2\n",
      "  (4455, 1561)\t1\n",
      "  (4455, 1615)\t1\n",
      "  (4455, 3767)\t1\n",
      "  (4455, 3888)\t1\n",
      "  (4455, 4647)\t1\n",
      "  (4455, 6991)\t1\n",
      "  (4455, 1592)\t1\n",
      "  (4455, 6850)\t1\n",
      "  (4455, 6316)\t1\n",
      "  (4455, 7402)\t1\n",
      "  (4455, 4383)\t1\n",
      "  (4455, 2164)\t1\n",
      "  (4455, 7668)\t1\n",
      "  (4455, 7618)\t1\n",
      "  (4455, 2849)\t1\n",
      "  (4455, 6563)\t1\n",
      "  (4455, 6636)\t1\n",
      "  (4455, 1179)\t1\n",
      "  (4456, 7513)\t1\n",
      "  (4456, 4703)\t1\n",
      "  (4456, 1431)\t1\n",
      "  (4456, 6334)\t1\n",
      "  (4456, 6312)\t1\n"
     ]
    }
   ],
   "source": [
    "print(x_train_cv)"
   ]
  },
  {
   "cell_type": "code",
   "execution_count": 22,
   "id": "5ae7dd88",
   "metadata": {},
   "outputs": [
    {
     "name": "stdout",
     "output_type": "stream",
     "text": [
      "X_train shape: (4457,)\n",
      "y_train shape: (4457,)\n"
     ]
    }
   ],
   "source": [
    "print(\"X_train shape:\", X_train.shape)\n",
    "print(\"y_train shape:\", y_train.shape)"
   ]
  },
  {
   "cell_type": "code",
   "execution_count": 61,
   "id": "f789953a",
   "metadata": {},
   "outputs": [],
   "source": [
    "from sklearn.preprocessing import LabelEncoder\n",
    "\n",
    "# Create a LabelEncoder object\n",
    "label_encoder = LabelEncoder()\n",
    "\n",
    "# Encode the labels\n",
    "y_train_encoded = label_encoder.fit_transform(y_train)\n",
    "\n",
    "# Create and fit the LogisticRegression model with the encoded labels\n",
    "lr = LogisticRegression()\n",
    "lr.fit(x_train_cv, y_train_encoded)\n",
    "\n",
    "# Predict using the trained model\n",
    "prediction_train = lr.predict(x_train_cv)\n"
   ]
  },
  {
   "cell_type": "code",
   "execution_count": 63,
   "id": "98740b50",
   "metadata": {},
   "outputs": [
    {
     "name": "stdout",
     "output_type": "stream",
     "text": [
      "99.75319721785955\n"
     ]
    }
   ],
   "source": [
    "from sklearn.metrics import accuracy_score\n",
    "print(accuracy_score(y_train_encoded, prediction_train)*100)"
   ]
  },
  {
   "cell_type": "code",
   "execution_count": 64,
   "id": "e8d40e45",
   "metadata": {},
   "outputs": [],
   "source": [
    "prediction_test = lr.predict(x_test_cv)"
   ]
  },
  {
   "cell_type": "code",
   "execution_count": 68,
   "id": "98ddb7be",
   "metadata": {
    "scrolled": false
   },
   "outputs": [
    {
     "name": "stdout",
     "output_type": "stream",
     "text": [
      "Data type of y_test: <class 'numpy.ndarray'>\n",
      "Data type of prediction_test: <class 'numpy.ndarray'>\n",
      "Unique values in y_test: [0 1]\n",
      "Unique values in prediction_test: [0 1]\n",
      "Accuracy: 0.9856502242152466\n",
      "Unique values in y_test: [0 1]\n",
      "Unique values in prediction_test: [0 1]\n"
     ]
    }
   ],
   "source": [
    "from sklearn.metrics import accuracy_score\n",
    "\n",
    "# Check the data types of y_test and prediction_test\n",
    "print(\"Data type of y_test:\", type(y_test))\n",
    "print(\"Data type of prediction_test:\", type(prediction_test))\n",
    "\n",
    "import numpy as np\n",
    "\n",
    "# Check the unique values in y_test and prediction_test\n",
    "print(\"Unique values in y_test:\", np.unique(y_test))\n",
    "print(\"Unique values in prediction_test:\", np.unique(prediction_test))\n",
    "\n",
    "\n",
    "# Ensure the data types are consistent\n",
    "y_test = y_test.astype(int)  # Assuming the true labels are binary integers (0 and 1)\n",
    "prediction_test = prediction_test.astype(int)  # Assuming the predicted labels are binary integers (0 and 1)\n",
    "\n",
    "# Compute the accuracy score\n",
    "accuracy = accuracy_score(y_test, prediction_test)\n",
    "print(\"Accuracy:\", accuracy)\n",
    "import numpy as np\n",
    "\n",
    "# Check the unique values in y_test and prediction_test\n",
    "print(\"Unique values in y_test:\", np.unique(y_test))\n",
    "print(\"Unique values in prediction_test:\", np.unique(prediction_test))\n"
   ]
  },
  {
   "cell_type": "code",
   "execution_count": 69,
   "id": "36dac445",
   "metadata": {},
   "outputs": [
    {
     "name": "stdout",
     "output_type": "stream",
     "text": [
      "Accuracy: 0.9856502242152466\n"
     ]
    }
   ],
   "source": [
    "# Compute the accuracy score\n",
    "accuracy = accuracy_score(y_test, prediction_test)\n",
    "print(\"Accuracy:\", accuracy)"
   ]
  },
  {
   "cell_type": "code",
   "execution_count": null,
   "id": "722756a0",
   "metadata": {},
   "outputs": [],
   "source": []
  }
 ],
 "metadata": {
  "kernelspec": {
   "display_name": "Python 3 (ipykernel)",
   "language": "python",
   "name": "python3"
  },
  "language_info": {
   "codemirror_mode": {
    "name": "ipython",
    "version": 3
   },
   "file_extension": ".py",
   "mimetype": "text/x-python",
   "name": "python",
   "nbconvert_exporter": "python",
   "pygments_lexer": "ipython3",
   "version": "3.9.13"
  }
 },
 "nbformat": 4,
 "nbformat_minor": 5
}
