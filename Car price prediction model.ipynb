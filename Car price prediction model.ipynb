{
 "cells": [
  {
   "cell_type": "code",
   "execution_count": 1,
   "id": "3f5f82ba",
   "metadata": {},
   "outputs": [],
   "source": [
    "import pandas as pd\n",
    "import numpy as np\n",
    "import matplotlib.pyplot as plt\n",
    "import seaborn as sns"
   ]
  },
  {
   "cell_type": "code",
   "execution_count": 3,
   "id": "aca7765f",
   "metadata": {},
   "outputs": [
    {
     "name": "stdout",
     "output_type": "stream",
     "text": [
      "         ID  Price  Levy Manufacturer    Model  Prod. year   Category  \\\n",
      "0  45654403  13328  1399        LEXUS   RX 450        2010       Jeep   \n",
      "1  44731507  16621  1018    CHEVROLET  Equinox        2011       Jeep   \n",
      "2  45774419   8467     -        HONDA      FIT        2006  Hatchback   \n",
      "3  45769185   3607   862         FORD   Escape        2011       Jeep   \n",
      "4  45809263  11726   446        HONDA      FIT        2014  Hatchback   \n",
      "\n",
      "  Leather interior Fuel type Engine volume    Mileage  Cylinders  \\\n",
      "0              Yes    Hybrid           3.5  186005 km        6.0   \n",
      "1               No    Petrol             3  192000 km        6.0   \n",
      "2               No    Petrol           1.3  200000 km        4.0   \n",
      "3              Yes    Hybrid           2.5  168966 km        4.0   \n",
      "4              Yes    Petrol           1.3   91901 km        4.0   \n",
      "\n",
      "  Gear box type Drive wheels   Doors             Wheel   Color  Airbags  \n",
      "0     Automatic          4x4  04-May        Left wheel  Silver       12  \n",
      "1     Tiptronic          4x4  04-May        Left wheel   Black        8  \n",
      "2      Variator        Front  04-May  Right-hand drive   Black        2  \n",
      "3     Automatic          4x4  04-May        Left wheel   White        0  \n",
      "4     Automatic        Front  04-May        Left wheel  Silver        4  \n",
      "         ID Levy Manufacturer   Model  Prod. year   Category Leather interior  \\\n",
      "0  44020629    -   VOLKSWAGEN    Golf        2012  Hatchback               No   \n",
      "1  45784798    -      HYUNDAI  Sonata        2012      Sedan              Yes   \n",
      "2  45800257    -       NISSAN   Tiida        2005      Sedan               No   \n",
      "3  45797981  975        VOLVO    XC90        2012       Jeep              Yes   \n",
      "4  45814303    -         OPEL   Astra        1993  Hatchback               No   \n",
      "\n",
      "  Fuel type Engine volume    Mileage  Cylinders Gear box type Drive wheels  \\\n",
      "0    Diesel     2.0 Turbo       0 km          4        Manual        Front   \n",
      "1    Petrol           2.4   26000 km          4     Tiptronic        Front   \n",
      "2    Petrol           1.5  168000 km          4     Automatic        Front   \n",
      "3    Petrol           3.2  143000 km          6     Automatic          4x4   \n",
      "4    Petrol           1.6  200000 km          4        Manual        Front   \n",
      "\n",
      "    Doors             Wheel     Color  Airbags  Price  \n",
      "0  02-Mar        Left wheel      Grey       10    NaN  \n",
      "1  04-May        Left wheel      Grey       10    NaN  \n",
      "2  04-May  Right-hand drive  Sky blue        8    NaN  \n",
      "3  04-May        Left wheel      Blue       12    NaN  \n",
      "4  04-May        Left wheel     Black        0    NaN  \n"
     ]
    }
   ],
   "source": [
    "test=pd.read_csv(r\"D:\\car price\\test.csv\")\n",
    "train=pd.read_csv(r\"D:\\car price\\train.csv\")\n",
    "print(train.head())\n",
    "print(test.head())"
   ]
  },
  {
   "cell_type": "code",
   "execution_count": 5,
   "id": "94a38a8f",
   "metadata": {},
   "outputs": [
    {
     "name": "stdout",
     "output_type": "stream",
     "text": [
      "ID                     0\n",
      "Levy                   0\n",
      "Manufacturer           0\n",
      "Model                  0\n",
      "Prod. year             0\n",
      "Category               0\n",
      "Leather interior       0\n",
      "Fuel type              0\n",
      "Engine volume          0\n",
      "Mileage                0\n",
      "Cylinders              0\n",
      "Gear box type          0\n",
      "Drive wheels           0\n",
      "Doors                  0\n",
      "Wheel                  0\n",
      "Color                  0\n",
      "Airbags                0\n",
      "Price               8245\n",
      "dtype: int64\n",
      "ID                  0\n",
      "Price               0\n",
      "Levy                0\n",
      "Manufacturer        0\n",
      "Model               0\n",
      "Prod. year          0\n",
      "Category            0\n",
      "Leather interior    0\n",
      "Fuel type           0\n",
      "Engine volume       0\n",
      "Mileage             0\n",
      "Cylinders           0\n",
      "Gear box type       0\n",
      "Drive wheels        0\n",
      "Doors               0\n",
      "Wheel               0\n",
      "Color               0\n",
      "Airbags             0\n",
      "dtype: int64\n"
     ]
    }
   ],
   "source": [
    "print(test.isnull().sum())\n",
    "print(train.isnull().sum())"
   ]
  },
  {
   "cell_type": "code",
   "execution_count": 7,
   "id": "789c57b2",
   "metadata": {},
   "outputs": [
    {
     "name": "stdout",
     "output_type": "stream",
     "text": [
      "<class 'pandas.core.frame.DataFrame'>\n",
      "RangeIndex: 8245 entries, 0 to 8244\n",
      "Data columns (total 18 columns):\n",
      " #   Column            Non-Null Count  Dtype  \n",
      "---  ------            --------------  -----  \n",
      " 0   ID                8245 non-null   int64  \n",
      " 1   Levy              8245 non-null   object \n",
      " 2   Manufacturer      8245 non-null   object \n",
      " 3   Model             8245 non-null   object \n",
      " 4   Prod. year        8245 non-null   int64  \n",
      " 5   Category          8245 non-null   object \n",
      " 6   Leather interior  8245 non-null   object \n",
      " 7   Fuel type         8245 non-null   object \n",
      " 8   Engine volume     8245 non-null   object \n",
      " 9   Mileage           8245 non-null   object \n",
      " 10  Cylinders         8245 non-null   int64  \n",
      " 11  Gear box type     8245 non-null   object \n",
      " 12  Drive wheels      8245 non-null   object \n",
      " 13  Doors             8245 non-null   object \n",
      " 14  Wheel             8245 non-null   object \n",
      " 15  Color             8245 non-null   object \n",
      " 16  Airbags           8245 non-null   int64  \n",
      " 17  Price             0 non-null      float64\n",
      "dtypes: float64(1), int64(4), object(13)\n",
      "memory usage: 1.1+ MB\n",
      "<class 'pandas.core.frame.DataFrame'>\n",
      "RangeIndex: 19237 entries, 0 to 19236\n",
      "Data columns (total 18 columns):\n",
      " #   Column            Non-Null Count  Dtype  \n",
      "---  ------            --------------  -----  \n",
      " 0   ID                19237 non-null  int64  \n",
      " 1   Price             19237 non-null  int64  \n",
      " 2   Levy              19237 non-null  object \n",
      " 3   Manufacturer      19237 non-null  object \n",
      " 4   Model             19237 non-null  object \n",
      " 5   Prod. year        19237 non-null  int64  \n",
      " 6   Category          19237 non-null  object \n",
      " 7   Leather interior  19237 non-null  object \n",
      " 8   Fuel type         19237 non-null  object \n",
      " 9   Engine volume     19237 non-null  object \n",
      " 10  Mileage           19237 non-null  object \n",
      " 11  Cylinders         19237 non-null  float64\n",
      " 12  Gear box type     19237 non-null  object \n",
      " 13  Drive wheels      19237 non-null  object \n",
      " 14  Doors             19237 non-null  object \n",
      " 15  Wheel             19237 non-null  object \n",
      " 16  Color             19237 non-null  object \n",
      " 17  Airbags           19237 non-null  int64  \n",
      "dtypes: float64(1), int64(4), object(13)\n",
      "memory usage: 2.6+ MB\n"
     ]
    }
   ],
   "source": [
    "test.info()\n",
    "train.info()"
   ]
  },
  {
   "cell_type": "code",
   "execution_count": 9,
   "id": "23c42053",
   "metadata": {},
   "outputs": [],
   "source": [
    "feature_cols=['ID','Levy','Manufacturer','Model','Prod. year','Category','Leather interior','Fuel type','Engine volume','Mileage','Cylinders','Gear box type','Drive wheels','Doors','Wheel','Color','Airbags']\n",
    "target_cols='Price'\n",
    "x=train[feature_cols]\n",
    "y=train[target_cols]"
   ]
  },
  {
   "cell_type": "code",
   "execution_count": 17,
   "id": "3ef63f65",
   "metadata": {},
   "outputs": [],
   "source": [
    "from sklearn.preprocessing import LabelEncoder\n",
    "label_encoder=LabelEncoder()\n",
    "for col in x.columns:\n",
    "    if x[col].dtype=='object':\n",
    "        x[col]=label_encoder.fit_transform(x[col])"
   ]
  },
  {
   "cell_type": "code",
   "execution_count": 18,
   "id": "f1b40994",
   "metadata": {},
   "outputs": [],
   "source": [
    "from sklearn.model_selection import train_test_split\n",
    "X_train,X_test,y_train,y_test= train_test_split(x,y,test_size=0.2,random_state=101)"
   ]
  },
  {
   "cell_type": "code",
   "execution_count": 21,
   "id": "5fff612f",
   "metadata": {},
   "outputs": [
    {
     "data": {
      "text/plain": [
       "LinearRegression()"
      ]
     },
     "execution_count": 21,
     "metadata": {},
     "output_type": "execute_result"
    }
   ],
   "source": [
    "from sklearn.linear_model import LinearRegression\n",
    "lor=LinearRegression()\n",
    "lor.fit(X_train,y_train)"
   ]
  },
  {
   "cell_type": "code",
   "execution_count": 52,
   "id": "c60bcc1a",
   "metadata": {},
   "outputs": [],
   "source": [
    "predictions=lor.predict(X_test)"
   ]
  },
  {
   "cell_type": "code",
   "execution_count": 53,
   "id": "4b8e4816",
   "metadata": {},
   "outputs": [
    {
     "name": "stdout",
     "output_type": "stream",
     "text": [
      "RMSE is 25369.55289984294\n"
     ]
    }
   ],
   "source": [
    "from sklearn.metrics import mean_squared_error\n",
    "mse=mean_squared_error(y_test,predictions)\n",
    "rmse=np.sqrt(mse)\n",
    "print('RMSE is',rmse)"
   ]
  },
  {
   "cell_type": "code",
   "execution_count": 61,
   "id": "34458689",
   "metadata": {},
   "outputs": [
    {
     "name": "stdout",
     "output_type": "stream",
     "text": [
      "Predicted Price: [46364.09546913]\n"
     ]
    }
   ],
   "source": [
    "new_data = pd.DataFrame({\n",
    "    'ID': [45656768],\n",
    "    'Levy': [761],\n",
    "    'Manufacturer': ['TOYOTA'],\n",
    "    'Model': ['Prius'],\n",
    "    'Prod. year': [2010],\n",
    "    'Category': ['Hatchback'],\n",
    "    'Leather interior': ['Yes'],\n",
    "    'Fuel type': ['Hybrid'],\n",
    "    'Engine volume': [1.8],\n",
    "    'Mileage': ['258909 km'],\n",
    "    'Cylinders': [8],\n",
    "    'Gear box type': ['Automatic'],\n",
    "    'Drive wheels': ['Front'],\n",
    "    'Doors': ['4-May'],\n",
    "    'Wheel': ['Left wheel'],\n",
    "    'Color': ['White'],\n",
    "    'Airbags': [12]\n",
    "})\n",
    "\n",
    "from sklearn.preprocessing import LabelEncoder\n",
    "\n",
    "# Create a copy of the new_data DataFrame\n",
    "new_data_encoded = new_data.copy()\n",
    "\n",
    "# Instantiate the LabelEncoder\n",
    "label_encoder = LabelEncoder()\n",
    "\n",
    "# Encode categorical columns in new_data_encoded\n",
    "for col in new_data_encoded.columns:\n",
    "    if new_data_encoded[col].dtype == 'object':\n",
    "        new_data_encoded[col] = label_encoder.fit_transform(new_data_encoded[col])\n",
    "\n",
    "# Predict car price for new data\n",
    "predicted_price = lor.predict(new_data_encoded)\n",
    "\n",
    "print(\"Predicted Price:\", predicted_price)\n"
   ]
  },
  {
   "cell_type": "code",
   "execution_count": null,
   "id": "c61cce01",
   "metadata": {},
   "outputs": [],
   "source": []
  },
  {
   "cell_type": "code",
   "execution_count": null,
   "id": "ec38f60a",
   "metadata": {},
   "outputs": [],
   "source": []
  }
 ],
 "metadata": {
  "kernelspec": {
   "display_name": "Python 3 (ipykernel)",
   "language": "python",
   "name": "python3"
  },
  "language_info": {
   "codemirror_mode": {
    "name": "ipython",
    "version": 3
   },
   "file_extension": ".py",
   "mimetype": "text/x-python",
   "name": "python",
   "nbconvert_exporter": "python",
   "pygments_lexer": "ipython3",
   "version": "3.9.13"
  }
 },
 "nbformat": 4,
 "nbformat_minor": 5
}
